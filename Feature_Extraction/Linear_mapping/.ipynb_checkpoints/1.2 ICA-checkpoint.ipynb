{
 "cells": [
  {
   "cell_type": "markdown",
   "metadata": {
    "id": "76ExHElN5dy5"
   },
   "source": [
    "# Independent Component Analysis\n",
    "\n",
    "In this notebook we will make use of the `FastICA` algorithm provided by `sklearn` in order to extract the relevent features in a range (10,100) of number of components. \n",
    "\n",
    "\n",
    "First, let's import...\n"
   ]
  },
  {
   "cell_type": "code",
   "execution_count": 1,
   "metadata": {},
   "outputs": [
    {
     "name": "stdout",
     "output_type": "stream",
     "text": [
      "C:\\Users\\delir\\Documents\\Manifold_learning\\Feature_Extraction\n",
      "C:\\Users\\delir\\Documents\\Manifold_learning\\Feature_Extraction\\Notebook utilities\n"
     ]
    }
   ],
   "source": [
    "%cd ..\n",
    "%cd \"Notebook utilities\""
   ]
  },
  {
   "cell_type": "code",
   "execution_count": 2,
   "metadata": {},
   "outputs": [],
   "source": [
    "#Importing libraries\n",
    "import matplotlib.pyplot as plt \n",
    "import numpy as np\n",
    "import pandas as pd\n",
    "import tqdm \n",
    "import os \n",
    "from os.path import dirname, join as pjoin\n",
    "from Data_Preprocessing import *\n",
    "from sklearn.metrics import mean_squared_error\n",
    "import pickle\n",
    "import copy\n",
    "\n",
    "import sys\n",
    "import inspect\n",
    "\n",
    "from Standar import *\n",
    "from Data_Preprocessing import *"
   ]
  },
  {
   "cell_type": "code",
   "execution_count": null,
   "metadata": {},
   "outputs": [],
   "source": [
    "import scipy.io as sio\n",
    "import numpy as np\n",
    "from sklearn.decomposition import FastICA\n",
    "from skimage.metrics import structural_similarity as ssim"
   ]
  },
  {
   "cell_type": "code",
   "execution_count": null,
   "metadata": {},
   "outputs": [],
   "source": [
    "### Set the random seed for reproducible results\n",
    "torch.manual_seed(1234)\n",
    "np.random.seed(1234)"
   ]
  },
  {
   "cell_type": "markdown",
   "metadata": {
    "id": "8N2je8ty5y-6"
   },
   "source": [
    "\n",
    "## 1.1  Loading Dataset\n",
    "---\n",
    "#### FC matrices and a behavioural score (language) of 131 stroke patient contained in a mat file. \n",
    "The data is loaded from the .mat and .xlsl file and converted to a 3d array contining per each patient the correspondent fc matrix. Since not all patients have values, some of them are empty, those patients are simply removed and not consider. Furthermore NA values are converted to 0 values.\n",
    "\n",
    "##### Vectorizing matrices\n",
    "Following the paper we will exploit the symmetry of the matrix and convert each of them as vector"
   ]
  },
  {
   "cell_type": "code",
   "execution_count": null,
   "metadata": {},
   "outputs": [],
   "source": [
    "currentdir = os.path.dirname(os.path.abspath(inspect.getfile(inspect.currentframe())))\n",
    "parentdir = os.path.dirname(currentdir)\n",
    "sys.path.insert(0, parentdir) \n",
    "\n",
    "#get data\n",
    "mat_path = parentdir+'/DATA/FC_Stroke/FCMatrixImage_131subj.mat'\n",
    "lang_path = parentdir+'/DATA/FC_Stroke/language_score.xlsx'\n",
    "Normalize = True\n",
    "\n",
    "fc_3d, language_score, ID = get_arrays(mat_path, lang_path, Normalize)\n",
    "\n",
    "#vectorizing matrices\n",
    "vect_mat = to_vector(fc_3d)\n",
    "\n",
    "#standarize\n",
    "for i in range(len(vect_mat)):\n",
    "    vect_mat[i] = (vect_mat[i] - vect_mat[i].mean())/ vect_mat[i].std()"
   ]
  },
  {
   "cell_type": "markdown",
   "metadata": {},
   "source": [
    "## 1.2 Extract features\n",
    "\n",
    "----\n",
    "\n",
    "Feature are extracted using `FastICA`.  THe structural similarity index and the mean squared error are computed. The code is based on: https://github.com/fcalesella/ccn_project"
   ]
  },
  {
   "cell_type": "code",
   "execution_count": null,
   "metadata": {},
   "outputs": [],
   "source": [
    "inp = vect_mat\n",
    "components = np.arange(10, 100, 5)\n",
    "\n",
    "ica = {}\n",
    "mix = {}\n",
    "mse = np.zeros(components.shape[0])\n",
    "se = np.zeros(components.shape[0])\n",
    "\n",
    "struc = np.zeros(components.shape[0])\n",
    "struc_se = np.zeros(components.shape[0])\n",
    "histogram_rer = []\n",
    "\n",
    "for i, comp in enumerate(components):\n",
    "    transformer = FastICA(n_components=comp, max_iter = 1000, random_state = 1234)\n",
    "    name = 'n{}'.format(comp)\n",
    "    sica = transformer.fit_transform(inp)\n",
    "    ica[name] = sica\n",
    "    reco = transformer.inverse_transform(sica)\n",
    "    rer = np.mean((reco - inp)**2, 1)\n",
    "    \n",
    "    histogram_rer.append(rer)\n",
    "    \n",
    "    ##SSIM index\n",
    "    s_ =[ssim(inp[j], reco[j]) for j in range(len(inp))]\n",
    "    struc[i] = np.mean(s_)\n",
    "    struc_se[i] = np.std(s_, ddof=1)\n",
    "    \n",
    "    #reconstruction error\n",
    "    mse[i] = np.mean(rer)\n",
    "    se[i] = np.std(rer, ddof=1) / np.sqrt(len(rer))\n",
    "    mix[name] = transformer.mixing_\n",
    "    \n",
    "    #plotting samples with highest features\n",
    "    n = 4\n",
    "    idx = np.argsort(rer)\n",
    "    plt.figure(figsize=(8, 4))\n",
    "    for i in range(n):\n",
    "        # display original\n",
    "        ax = plt.subplot(2, n, i + 1)\n",
    "        plt.imshow(to_matrix(vect_mat[idx[i]]), cmap = 'jet')\n",
    "        plt.title(\"original\")\n",
    "        ax.get_xaxis().set_visible(False)\n",
    "        ax.get_yaxis().set_visible(False)\n",
    "\n",
    "        # display reconstruction\n",
    "        ax = plt.subplot(2, n, i + 1 + n)\n",
    "        plt.imshow(to_matrix(reco[idx[i]]), cmap = 'jet')\n",
    "        plt.title(\"reconstructed\")\n",
    "        ax.get_xaxis().set_visible(False)\n",
    "        ax.get_yaxis().set_visible(False)\n",
    "    \n",
    "    plt.savefig('ICA_Recostructed_Images'+str(comp))\n",
    "    \n"
   ]
  },
  {
   "cell_type": "markdown",
   "metadata": {},
   "source": [
    "## 1.3 Saving data\n",
    "----"
   ]
  },
  {
   "cell_type": "code",
   "execution_count": null,
   "metadata": {},
   "outputs": [],
   "source": [
    "data = pd.DataFrame([histogram_rer[0], histogram_rer[9], histogram_rer[17]])\n",
    "\n",
    "data.index = ['10', '50', '90']\n",
    "sns.set(font_scale = 2)\n",
    "plt.figure(figsize=(15,7))\n",
    "sns.kdeplot(data=data.T, fill=True, common_norm=False, palette=\"Accent\",\n",
    "   alpha=.5, linewidth=2)\n",
    "plt.savefig('Distribution_ICA')\n",
    "data.to_csv('ica_distribution.csv')"
   ]
  },
  {
   "cell_type": "code",
   "execution_count": 26,
   "metadata": {},
   "outputs": [],
   "source": [
    "np.savetxt('C:\\\\Users\\\\delir\\\\Documents\\\\Score_Prediction_FMRI\\\\Results\\\\Results_Extractors\\\\ICA_RESULTS\\\\MSE_ICA.txt', mse)\n",
    "np.savetxt('C:\\\\Users\\\\delir\\\\Documents\\\\Score_Prediction_FMRI\\\\Results\\\\Results_Extractors\\\\ICA_RESULTS\\\\SD_ICA.txt', se)\n",
    "\n",
    "\n",
    "np.savetxt('C:\\\\Users\\\\delir\\\\Documents\\\\Score_Prediction_FMRI\\\\Results\\\\Results_Extractors\\\\ICA_RESULTS\\\\STRUC_MSE_ICA.txt', struc)\n",
    "np.savetxt('C:\\\\Users\\\\delir\\\\Documents\\\\Score_Prediction_FMRI\\\\Results\\\\Results_Extractors\\\\ICA_RESULTS\\\\STRUC_SD_ICA.txt', struc_se)"
   ]
  },
  {
   "cell_type": "code",
   "execution_count": 27,
   "metadata": {},
   "outputs": [],
   "source": [
    "import pickle\n",
    "a_file = open(\"FEATURES_ICA.pkl\", \"wb\")\n",
    "pickle.dump(ica, a_file)\n",
    "a_file.close()\n",
    "\n",
    "a_file = open(\"WEIGHTS_ICA.pkl\", \"wb\")\n",
    "pickle.dump(mix, a_file)\n",
    "a_file.close()"
   ]
  },
  {
   "cell_type": "code",
   "execution_count": null,
   "metadata": {},
   "outputs": [],
   "source": []
  }
 ],
 "metadata": {
  "accelerator": "GPU",
  "colab": {
   "collapsed_sections": [],
   "name": "Stroke_Autoencoder.ipynb",
   "provenance": []
  },
  "kernelspec": {
   "display_name": "Python 3",
   "language": "python",
   "name": "python3"
  },
  "language_info": {
   "codemirror_mode": {
    "name": "ipython",
    "version": 3
   },
   "file_extension": ".py",
   "mimetype": "text/x-python",
   "name": "python",
   "nbconvert_exporter": "python",
   "pygments_lexer": "ipython3",
   "version": "3.8.10"
  }
 },
 "nbformat": 4,
 "nbformat_minor": 1
}
